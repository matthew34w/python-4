{
 "cells": [
  {
   "cell_type": "markdown",
   "metadata": {},
   "source": [
    "# Object-Oriented-Programming (OOP)"
   ]
  },
  {
   "cell_type": "markdown",
   "metadata": {},
   "source": [
    "## Tasks Today:\n",
    "\n",
    "   \n",
    "\n",
    "1) <b>Creating a Class (Initializing/Declaring)</b> <br>\n",
    "2) <b>Using a Class (Instantiating)</b> <br>\n",
    " &nbsp;&nbsp;&nbsp;&nbsp; a) Creating One Instance <br>\n",
    " &nbsp;&nbsp;&nbsp;&nbsp; b) Creating Multiple Instances <br>\n",
    " &nbsp;&nbsp;&nbsp;&nbsp; c) In-Class Exercise #1 - Create a Class 'Car' and instantiate three different makes of cars <br>\n",
    "3) <b>The \\__init\\__() Method</b> <br>\n",
    " &nbsp;&nbsp;&nbsp;&nbsp; a) The 'self' Attribute <br>\n",
    "4) <b>Class Attributes</b> <br>\n",
    " &nbsp;&nbsp;&nbsp;&nbsp; a) Initializing Attributes <br>\n",
    " &nbsp;&nbsp;&nbsp;&nbsp; b) Setting an Attribute Outside of the \\__init\\__() Method <br>\n",
    " &nbsp;&nbsp;&nbsp;&nbsp; c) Setting Defaults for Attributes <br>\n",
    " &nbsp;&nbsp;&nbsp;&nbsp; d) Accessing Class Attributes <br>\n",
    " &nbsp;&nbsp;&nbsp;&nbsp; e) Changing Class Attributes <br>\n",
    " &nbsp;&nbsp;&nbsp;&nbsp; f) In-Class Exercise #2 - Add a color and wheels attribute to your 'Car' class <br>\n",
    "5) <b>Class Methods</b> <br>\n",
    " &nbsp;&nbsp;&nbsp;&nbsp; a) Creating <br>\n",
    " &nbsp;&nbsp;&nbsp;&nbsp; b) Calling <br>\n",
    " &nbsp;&nbsp;&nbsp;&nbsp; c) Modifying an Attribute's Value Through a Method <br>\n",
    " &nbsp;&nbsp;&nbsp;&nbsp; d) Incrementing an Attribute's Value Through a Method <br>\n",
    " &nbsp;&nbsp;&nbsp;&nbsp; e) In-Class Exercise #3 - Add a method that prints the cars color and wheel number, then call them <br>\n",
    "6) <b>Inheritance</b> <br>\n",
    " &nbsp;&nbsp;&nbsp;&nbsp; a) Syntax for Inheriting from a Parent Class <br>\n",
    " &nbsp;&nbsp;&nbsp;&nbsp; b) The \\__init\\__() Method for a Child Class (super()) <br>\n",
    " &nbsp;&nbsp;&nbsp;&nbsp; c) Defining Attributes and Methods for the Child Class <br>\n",
    " &nbsp;&nbsp;&nbsp;&nbsp; d) Method Overriding <br>\n",
    " &nbsp;&nbsp;&nbsp;&nbsp; e) In-Class Exercise #4 - Create a class 'Ford' that inherits from 'Car' class and initialize it as a Blue Ford Explorer with 4 wheels using the super() method <br>\n",
    "7) <b>Classes as Attributes</b> <br>\n",
    "8) <b>Exercises</b> <br>\n",
    " &nbsp;&nbsp;&nbsp;&nbsp; a) Exercise #1 - Turn the shopping cart program from yesterday into an object-oriented program <br>"
   ]
  },
  {
   "cell_type": "markdown",
   "metadata": {},
   "source": [
    "## Creating a Class (Initializing/Declaring)\n",
    "<p>When creating a class, function, or even a variable you are initializing that object. Initializing and Declaring occur at the same time in Python, whereas in lower level languages you have to declare an object before initializing it. This is the first step in the process of using a class.</p>"
   ]
  },
  {
   "cell_type": "code",
   "execution_count": 6,
   "metadata": {},
   "outputs": [],
   "source": [
    "class Car():\n",
    "    wheels = 4\n",
    "    color = 'blue'"
   ]
  },
  {
   "cell_type": "markdown",
   "metadata": {},
   "source": [
    "## Using a Class (Instantiating)\n",
    "<p>The process of creating a class is called <i>Instantiating</i>. Each time you create a variable of that type of class, it is referred to as an <i>Instance</i> of that class. This is the second step in the process of using a class.</p>"
   ]
  },
  {
   "cell_type": "markdown",
   "metadata": {},
   "source": [
    "##### Creating One Instance"
   ]
  },
  {
   "cell_type": "code",
   "execution_count": 3,
   "metadata": {},
   "outputs": [
    {
     "name": "stdout",
     "output_type": "stream",
     "text": [
      "blue\n"
     ]
    }
   ],
   "source": [
    "ford = Car()\n",
    "\n",
    "print(ford.color)"
   ]
  },
  {
   "cell_type": "markdown",
   "metadata": {},
   "source": [
    "##### Creating Multiple Instances"
   ]
  },
  {
   "cell_type": "code",
   "execution_count": 7,
   "metadata": {},
   "outputs": [
    {
     "name": "stdout",
     "output_type": "stream",
     "text": [
      "<class 'str'>\n"
     ]
    }
   ],
   "source": [
    "chevrolet = Car()\n",
    "honda = Car()\n",
    "porsche = Car()\n",
    "\n",
    "print(type(porsche.color))\n"
   ]
  },
  {
   "cell_type": "markdown",
   "metadata": {},
   "source": [
    "##### In-Class Exercise #1 - Create a Class 'Car' and Instantiate three different makes of cars"
   ]
  },
  {
   "cell_type": "code",
   "execution_count": null,
   "metadata": {},
   "outputs": [],
   "source": [
    "class Car():\n",
    "    doors= 4\n",
    "    color = 'blue','green','yellow'\n",
    "    wheels = 4\n",
    "\n",
    "\n",
    "\n"
   ]
  },
  {
   "cell_type": "markdown",
   "metadata": {},
   "source": [
    "## The \\__init\\__() Method <br>\n",
    "<p>This method is used in almost every created class, and called only once upon the creation of the class instance. This method will initialize all variables needed for the object.</p>"
   ]
  },
  {
   "cell_type": "code",
   "execution_count": 8,
   "metadata": {},
   "outputs": [
    {
     "name": "stdout",
     "output_type": "stream",
     "text": [
      "Black\n",
      "blue\n",
      "6\n"
     ]
    }
   ],
   "source": [
    "class Car():\n",
    "    engine = '4.7L' # Global within class - any method inside the class can call upon this variable\n",
    "\n",
    "    def __init__(self,color, wheels):\n",
    "        self.color = color\n",
    "        self.wheels = wheels\n",
    "mazda =Car('Black', 4)\n",
    "subaru = Car('blue', 6)\n",
    "\n",
    "\n",
    "print(mazda.color)\n",
    "print(subaru.color)\n",
    "print(subaru.wheels)"
   ]
  },
  {
   "cell_type": "markdown",
   "metadata": {},
   "source": [
    "##### The 'self' Attribute <br>\n",
    "<p>This attribute is required to keep track of specific instance's attributes. Without the self attribute, the program would not know how to reference or keep track of an instance's attributes.</p>"
   ]
  },
  {
   "cell_type": "code",
   "execution_count": null,
   "metadata": {},
   "outputs": [],
   "source": [
    "# see above"
   ]
  },
  {
   "cell_type": "markdown",
   "metadata": {},
   "source": [
    "## Class Attributes <br>\n",
    "<p>While variables are inside of a class, they are referred to as attributes and not variables. When someone says 'attribute' you know they're speaking about a class. Attributes can be initialized through the init method, or outside of it.</p>"
   ]
  },
  {
   "cell_type": "markdown",
   "metadata": {},
   "source": [
    "##### Initializing Attributes"
   ]
  },
  {
   "cell_type": "code",
   "execution_count": 2,
   "metadata": {},
   "outputs": [],
   "source": [
    "# see above\n",
    "class Toy():\n",
    "    kind = 'car' #This is called a constant\n",
    "\n",
    "    def __init__(self,rooftop,horn,wheels):\n",
    "        self.rooftop = rooftop # These are our attributes\n",
    "        self.horn =horn\n",
    "        self.wheels = wheels\n",
    "\n",
    "tonka_truck = Toy(1,1,4) # 1 rooftop , 1 horn , 4 wheels\n",
    "\n",
    "hotwheels_car = Toy(2,3,8) # 2 rooftops , 3 horns , 8 wheels\n",
    "\n",
    "\n"
   ]
  },
  {
   "cell_type": "markdown",
   "metadata": {},
   "source": [
    "##### Accessing Class Attributes"
   ]
  },
  {
   "cell_type": "code",
   "execution_count": 3,
   "metadata": {
    "scrolled": true
   },
   "outputs": [
    {
     "data": {
      "text/plain": [
       "8"
      ]
     },
     "execution_count": 3,
     "metadata": {},
     "output_type": "execute_result"
    }
   ],
   "source": [
    "# See Above\n",
    "tonka_truck.rooftop\n",
    "hotwheels_car.wheels"
   ]
  },
  {
   "cell_type": "markdown",
   "metadata": {},
   "source": [
    "##### Setting Defaults for Attributes"
   ]
  },
  {
   "cell_type": "code",
   "execution_count": 5,
   "metadata": {},
   "outputs": [
    {
     "data": {
      "text/plain": [
       "'Blue'"
      ]
     },
     "execution_count": 5,
     "metadata": {},
     "output_type": "execute_result"
    }
   ],
   "source": [
    "class Car():\n",
    "    engine = '4.7L'\n",
    "\n",
    "    def __init__(self, wheels):\n",
    "        self.wheels = wheels\n",
    "        self.color = 'Blue'\n",
    "\n",
    "    \n",
    "honda = Car(4)\n",
    "honda.color\n",
    "\n",
    "        "
   ]
  },
  {
   "cell_type": "markdown",
   "metadata": {},
   "source": [
    "##### Changing Class Attributes <br>\n",
    "<p>Keep in mind there are global class attributes and then there are attributes only available to each class instance which won't effect other classes.</p>"
   ]
  },
  {
   "cell_type": "code",
   "execution_count": 6,
   "metadata": {},
   "outputs": [
    {
     "name": "stdout",
     "output_type": "stream",
     "text": [
      "Befor Change: Blue\n",
      "\n",
      "After Change: white\n",
      "Blue\n"
     ]
    }
   ],
   "source": [
    "jeep = Car(8)\n",
    "\n",
    "print(f'Befor Change: {jeep.color}')\n",
    "\n",
    "jeep.color = 'white'\n",
    "\n",
    "print(f'\\nAfter Change: {jeep.color}')\n",
    "print(honda.color)\n"
   ]
  },
  {
   "cell_type": "code",
   "execution_count": null,
   "metadata": {},
   "outputs": [],
   "source": []
  },
  {
   "cell_type": "markdown",
   "metadata": {},
   "source": [
    "##### In-Class Exercise #2 - Add a doors and seats attribute to your 'Car' class then print out two different instances with different doors and seats"
   ]
  },
  {
   "cell_type": "code",
   "execution_count": 8,
   "metadata": {},
   "outputs": [
    {
     "name": "stdout",
     "output_type": "stream",
     "text": [
      "toyota seats : 2 and toyota doors: 2\n",
      "porsche seats: 4 and porsche doors 4\n"
     ]
    }
   ],
   "source": [
    "class Car():\n",
    "    def __init__(self,doors,seats = 4) :\n",
    "        self.doors=doors\n",
    "        self.seats= seats\n",
    "\n",
    "toyota = Car(2,2)\n",
    "porsche = Car(4)\n",
    "\n",
    "\n",
    "print(f'toyota seats : {toyota.seats } and toyota doors: {toyota.doors}')\n",
    "print(f'porsche seats: {porsche.seats} and porsche doors {porsche.doors}')"
   ]
  },
  {
   "cell_type": "markdown",
   "metadata": {},
   "source": [
    "## Class Methods <br>\n",
    "<p>While inside of a class, functions are referred to as 'methods'. If you hear someone mention methods, they're speaking about classes. Methods are essentially functions, but only callable on the instances of a class.</p>"
   ]
  },
  {
   "cell_type": "markdown",
   "metadata": {},
   "source": [
    "##### Creating"
   ]
  },
  {
   "cell_type": "code",
   "execution_count": 1,
   "metadata": {},
   "outputs": [],
   "source": [
    "class ShoppingBag():\n",
    "    \"\"\"\n",
    "    The ShoppingBag class will have handles, capacity,\n",
    "    and items to place inside.\n",
    "\n",
    "    Attributes for the class:\n",
    "    -handles : expected to be an integer\n",
    "    -capacity: expected to be a string OR an integer\n",
    "    - items: expected to be a list\n",
    "    \"\"\"\n",
    "\n",
    "    def __init__(self,handles,capacity,items):\n",
    "        self.handles =handles\n",
    "        self.capacity=capacity\n",
    "        self.items=items\n",
    "\n",
    "    # write a method that shows the items in our ShoppingBag / this is our item list\n",
    "\n",
    "    def showShoppingBag(self):\n",
    "        print('you have items in your bag')\n",
    "        for item in self.items:\n",
    "            print(item)\n",
    "    \n",
    "    #show the capacity of ShoppingBag - how much room is left\n",
    "\n",
    "    def showCapacity(self):\n",
    "        print(f'Your ccapacity is: {self.capacity}')\n",
    "\n",
    "    # Add items to the item list for the ShoppingBag\n",
    "    def addToShoppingBag(self):\n",
    "        products = input('what would you like to add?')\n",
    "        self.items.append(products)\n",
    "\n",
    "\n",
    "    # Change the capacity of the shopping bag\n",
    "\n",
    "    def changeBagCapacity(self,capacity):\n",
    "        self.capacity = capacity \n",
    "\n",
    "    # Increase the capacity of the Shopping Bag by a default amount that we set to 10\n",
    "\n",
    "    def increaseCapacity(self,changed_capacity = 10):\n",
    "        if self.capacity  == isinstance(self.capacity,str):\n",
    "            print('we cant add that here')\n",
    "\n",
    "        else:\n",
    "            self.capacity += changed_capacity\n",
    "        \n",
    "    \n",
    "        \n",
    "\n",
    "\n",
    "        "
   ]
  },
  {
   "cell_type": "markdown",
   "metadata": {},
   "source": [
    "##### Calling"
   ]
  },
  {
   "cell_type": "code",
   "execution_count": null,
   "metadata": {},
   "outputs": [],
   "source": []
  },
  {
   "cell_type": "code",
   "execution_count": 2,
   "metadata": {},
   "outputs": [
    {
     "name": "stdout",
     "output_type": "stream",
     "text": [
      "Try another command\n",
      "you have items in your bag\n",
      "grapes\n",
      "water\n",
      "books\n",
      "thanks for shopping\n"
     ]
    }
   ],
   "source": [
    "# See Above\n",
    "\n",
    "# so far we created the idea of the shopping bag; now we will actually instantiate and make one \n",
    "\n",
    "wholeFOods_bag = ShoppingBag(2,10,[])\n",
    "\n",
    "# create a function to run the ShoppingBag methods on our wholeFoods_bag instance\n",
    "\n",
    "def run():\n",
    "    while True:\n",
    "        response = input('What do you want to do?  add/show/quit?') \n",
    "\n",
    "        if response.lower() == 'quit':\n",
    "            wholeFOods_bag.showShoppingBag()\n",
    "            print('thanks for shopping')\n",
    "            break\n",
    "\n",
    "        elif response.lower() == 'add':\n",
    "            wholeFOods_bag.addToShoppingBag()\n",
    "\n",
    "        elif response.lower() == 'show':\n",
    "            wholeFOods_bag.showShoppingBag\n",
    "\n",
    "        else:\n",
    "            print('Try another command')\n",
    "        \n",
    "run()\n"
   ]
  },
  {
   "cell_type": "markdown",
   "metadata": {},
   "source": [
    "##### Modifying an Attribute's Value Through a Method"
   ]
  },
  {
   "cell_type": "code",
   "execution_count": 3,
   "metadata": {},
   "outputs": [
    {
     "name": "stdout",
     "output_type": "stream",
     "text": [
      "Your ccapacity is: 10\n",
      "capacity After the change... \n",
      "you have items in your bag\n",
      "grapes\n",
      "water\n",
      "books\n"
     ]
    }
   ],
   "source": [
    "# Show the cappacy\n",
    "\n",
    "wholeFOods_bag.showCapacity()\n",
    "print('capacity After the change... ')\n",
    "\n",
    "wholeFOods_bag.changeBagCapacity(40)\n",
    "wholeFOods_bag.showShoppingBag()"
   ]
  },
  {
   "cell_type": "markdown",
   "metadata": {},
   "source": [
    "##### Incrementing an Attribute's Value Through a Method"
   ]
  },
  {
   "cell_type": "code",
   "execution_count": 4,
   "metadata": {},
   "outputs": [
    {
     "name": "stdout",
     "output_type": "stream",
     "text": [
      "Your ccapacity is: 40\n",
      "After Increase\n",
      "Your ccapacity is: 50\n"
     ]
    }
   ],
   "source": [
    "wholeFOods_bag.showCapacity()\n",
    "print('After Increase')\n",
    "wholeFOods_bag.increaseCapacity()\n",
    "wholeFOods_bag.showCapacity()"
   ]
  },
  {
   "cell_type": "markdown",
   "metadata": {},
   "source": [
    "##### In-Class Exercise #3 - Add a method that takes in three parameters of year, doors and seats and prints out a formatted print statement with make, model, year, seats, and doors"
   ]
  },
  {
   "cell_type": "code",
   "execution_count": 6,
   "metadata": {},
   "outputs": [
    {
     "ename": "TypeError",
     "evalue": "Carz.__init__() takes 3 positional arguments but 4 were given",
     "output_type": "error",
     "traceback": [
      "\u001b[1;31m---------------------------------------------------------------------------\u001b[0m",
      "\u001b[1;31mTypeError\u001b[0m                                 Traceback (most recent call last)",
      "\u001b[1;32mc:\\Users\\Matth\\OneDrive\\Documents\\Coding temple\\python\\4 Python Document.ipynb Cell 39\u001b[0m line \u001b[0;36m1\n\u001b[0;32m     <a href='vscode-notebook-cell:/c%3A/Users/Matth/OneDrive/Documents/Coding%20temple/python/4%20Python%20Document.ipynb#X53sZmlsZQ%3D%3D?line=13'>14</a>\u001b[0m     \u001b[39mdef\u001b[39;00m \u001b[39mcar_class\u001b[39m(\u001b[39mself\u001b[39m,yearz,doorz\u001b[39m=\u001b[39m\u001b[39m4\u001b[39m,seatz\u001b[39m=\u001b[39m\u001b[39m5\u001b[39m):\n\u001b[0;32m     <a href='vscode-notebook-cell:/c%3A/Users/Matth/OneDrive/Documents/Coding%20temple/python/4%20Python%20Document.ipynb#X53sZmlsZQ%3D%3D?line=14'>15</a>\u001b[0m         \u001b[39mprint\u001b[39m(\u001b[39mf\u001b[39m\u001b[39m'\u001b[39m\u001b[39mThis car is from \u001b[39m\u001b[39m{\u001b[39;00myearz\u001b[39m}\u001b[39;00m\u001b[39m and is a \u001b[39m\u001b[39m{\u001b[39;00mmakez\u001b[39m}\u001b[39;00m\u001b[39m \u001b[39m\u001b[39m{\u001b[39;00mmodelz\u001b[39m}\u001b[39;00m\u001b[39m and has \u001b[39m\u001b[39m{\u001b[39;00mdoorz\u001b[39m}\u001b[39;00m\u001b[39m doors and \u001b[39m\u001b[39m{\u001b[39;00mseatz\u001b[39m}\u001b[39;00m\u001b[39m \u001b[39m\u001b[39m'\u001b[39m)\n\u001b[1;32m---> <a href='vscode-notebook-cell:/c%3A/Users/Matth/OneDrive/Documents/Coding%20temple/python/4%20Python%20Document.ipynb#X53sZmlsZQ%3D%3D?line=17'>18</a>\u001b[0m car_class\u001b[39m=\u001b[39m Carz(\u001b[39m2019\u001b[39;49m,\u001b[39m'\u001b[39;49m\u001b[39mford\u001b[39;49m\u001b[39m'\u001b[39;49m,\u001b[39m'\u001b[39;49m\u001b[39mexplorer\u001b[39;49m\u001b[39m'\u001b[39;49m)\n\u001b[0;32m     <a href='vscode-notebook-cell:/c%3A/Users/Matth/OneDrive/Documents/Coding%20temple/python/4%20Python%20Document.ipynb#X53sZmlsZQ%3D%3D?line=18'>19</a>\u001b[0m car_class()\n",
      "\u001b[1;31mTypeError\u001b[0m: Carz.__init__() takes 3 positional arguments but 4 were given"
     ]
    }
   ],
   "source": [
    "# Create class with 2 paramters inside of the __init__ which are make and model\n",
    "\n",
    "# Inside of the Car class create a method that has 4 parameter in total (self,year,door,seats)\n",
    "\n",
    "# Output: This car is from 2019 and is a Ford Expolorer and has 4 doors and 5 seats\n",
    "\n",
    "\n",
    "class Carz():\n",
    "    def __init__(self,makez,modelz):\n",
    "        self.makez = makez\n",
    "        self.modelz = modelz\n",
    "    \n",
    "    \n",
    "    def car_class(self,yearz,doorz=4,seatz=5):\n",
    "        print(f'This car is from {yearz} and is a {makez} {modelz} and has {doorz} doors and {seatz} ')\n",
    "\n",
    "\n",
    "car_class= Carz(2019,'ford','explorer')\n",
    "\n",
    "car_class()\n",
    "        \n",
    "     \n",
    "\n"
   ]
  },
  {
   "cell_type": "markdown",
   "metadata": {},
   "source": [
    "## Inheritance <br>\n",
    "<p>You can create a child-parent relationship between two classes by using inheritance. What this allows you to do is have overriding methods, but also inherit traits from the parent class. Think of it as an actual parent and child, the child will inherit the parent's genes, as will the classes in OOP</p>"
   ]
  },
  {
   "cell_type": "code",
   "execution_count": 20,
   "metadata": {},
   "outputs": [
    {
     "name": "stdout",
     "output_type": "stream",
     "text": [
      "bark\n",
      "makes some generic sound\n",
      "None\n",
      "9.8\n",
      "15\n"
     ]
    }
   ],
   "source": [
    "# Create a parent class and call it animal \n",
    " \n",
    "class Animal():\n",
    "    acceleration = 9.8\n",
    "\n",
    "    def __init__(self,name,species,legs=4) :\n",
    "        self.name=name\n",
    "        self.species=species\n",
    "        self.legs=legs\n",
    "\n",
    "    # Generic Parent Method - This is not overriding anything\n",
    "    def makeSound(self):\n",
    "        print('makes some generic sound')\n",
    "\n",
    "\n",
    "    # now we are making our child class... dog \n",
    "class Dog(Animal):\n",
    "        speed = 15\n",
    "\n",
    "        def printInfo(self):\n",
    "            print(f'the dog has {self.speed} mph inn speed and {self.acceleration}')\n",
    "\n",
    "\n",
    "# creation of our grandchild class\n",
    "\n",
    "class Mutt(Dog): \n",
    "    color = 'Tan'\n",
    "\n",
    "      #override the animal class - using the dog class to overwride the __init__ fromm animal\n",
    "\n",
    "    def __init__(self,name,species,eye_color,legs=4):\n",
    "      \n",
    "        Dog.__init__(self,name,species,legs)\n",
    "\n",
    "        self.eye_color = eye_color\n",
    "\n",
    "    \n",
    "    #override the makesound method (which  is coming from Animal)\n",
    "\n",
    "    def makeSound(self):\n",
    "      noise = 'bark'\n",
    "      return noise\n",
    "\n",
    "\n",
    "\n",
    "lassie= Dog('lassie', 'dog')\n",
    "basic_animal = Animal('generic animal name','generic animal species')\n",
    "buster = Mutt('buster','mut', 'brown')\n",
    "\n",
    "print(buster.makeSound())\n",
    "\n",
    "print(lassie.makeSound())\n",
    "\n",
    "print(buster.acceleration)\n",
    "\n",
    "print(buster.speed)\n",
    "\n",
    "\n",
    "    \n",
    "            \n",
    "\n",
    "\n",
    "\n",
    "        \n",
    "\n",
    "        "
   ]
  },
  {
   "cell_type": "markdown",
   "metadata": {},
   "source": [
    "##### The \\__init\\__() Method for a Child Class - super()"
   ]
  },
  {
   "cell_type": "code",
   "execution_count": 21,
   "metadata": {
    "scrolled": true
   },
   "outputs": [
    {
     "name": "stdout",
     "output_type": "stream",
     "text": [
      "bark\n",
      "makes some generic sound\n",
      "None\n",
      "9.8\n",
      "15\n"
     ]
    }
   ],
   "source": [
    "class Puppy(Dog):\n",
    "    color= 'black and brown'\n",
    "\n",
    "    # override the animal class __init__ (via Dog class)\n",
    "    def __init__(self, name, species, legs=4):\n",
    "        super().__init__(name, species, legs)\n",
    "        self.eye_color = eye_color\n",
    "\n",
    "    \n",
    "    # override the makeSound method\n",
    "    def makeSound(self):\n",
    "         noise = 'bark'\n",
    "         return noise\n",
    "    \n",
    "\n",
    "lassie= Dog('lassie', 'dog')\n",
    "basic_animal = Animal('generic animal name','generic animal species')\n",
    "buster = Mutt('buster','mut', 'brown')\n",
    "\n",
    "print(buster.makeSound())\n",
    "\n",
    "print(lassie.makeSound())\n",
    "\n",
    "print(buster.acceleration)\n",
    "\n",
    "print(buster.speed)\n",
    "\n"
   ]
  },
  {
   "cell_type": "markdown",
   "metadata": {},
   "source": [
    "##### Defining Attributes and Methods for the Child Class"
   ]
  },
  {
   "cell_type": "code",
   "execution_count": null,
   "metadata": {},
   "outputs": [],
   "source": [
    "# See Above"
   ]
  },
  {
   "cell_type": "markdown",
   "metadata": {},
   "source": [
    "##### Method Overriding"
   ]
  },
  {
   "cell_type": "code",
   "execution_count": null,
   "metadata": {},
   "outputs": [],
   "source": [
    "# See Above"
   ]
  },
  {
   "cell_type": "markdown",
   "metadata": {},
   "source": [
    "## Classes as Attributes <br>\n",
    "<p>Classes can also be used as attributes within another class. This is useful in situations where you need to keep variables locally stored, instead of globally stored.</p>"
   ]
  },
  {
   "cell_type": "code",
   "execution_count": 22,
   "metadata": {},
   "outputs": [
    {
     "name": "stdout",
     "output_type": "stream",
     "text": [
      "20\n"
     ]
    },
    {
     "data": {
      "text/plain": [
       "'2019teslaModelX20'"
      ]
     },
     "execution_count": 22,
     "metadata": {},
     "output_type": "execute_result"
    }
   ],
   "source": [
    "class Battery():\n",
    "    volts = 7.8\n",
    "\n",
    "    def __init__(self,cells):\n",
    "        self.cells = cells\n",
    "\n",
    "\n",
    "class Car():\n",
    "    def __init__(self,year, make, model,battery):\n",
    "        self.year = year\n",
    "        self.make = make\n",
    "        self.model = model\n",
    "        self.battery = battery\n",
    "\n",
    "\n",
    "    def printInfo(self):\n",
    "        return f'{self.year}{self.make}{self.model}{self.battery.cells}'\n",
    "    \n",
    "\n",
    "\n",
    "my_battery= Battery(20)\n",
    "\n",
    "tesla = Car(2019,'tesla', 'ModelX',my_battery)\n",
    "\n",
    "\n",
    "print(tesla.battery.cells)\n",
    "tesla.printInfo()\n",
    "        "
   ]
  },
  {
   "cell_type": "markdown",
   "metadata": {},
   "source": [
    "# Exercises"
   ]
  },
  {
   "cell_type": "markdown",
   "metadata": {},
   "source": [
    "### Exercise 1 - Turn the shopping cart program from yesterday into an object-oriented program\n",
    "\n",
    "The comments in the cell below are there as a guide for thinking about the problem. However, if you feel a different way is best for you and your own thought process, please do what feels best for you by all means."
   ]
  },
  {
   "cell_type": "code",
   "execution_count": 18,
   "metadata": {},
   "outputs": [
    {
     "name": "stdout",
     "output_type": "stream",
     "text": [
      "Your items are ['tea', 'tea', 'quit']\n"
     ]
    }
   ],
   "source": [
    "# Create a class called cart that retains items and has methods to add, remove, and show\n",
    "\n",
    "class Cart():\n",
    "    \n",
    "    def __init__(self,add,remove,show):\n",
    "        self.add= add\n",
    "        self.remove= remove\n",
    "        self.show = show\n",
    "\n",
    "    def cart(self):\n",
    "        \n",
    "     shopping_cart =[]\n",
    "\n",
    "     \n",
    "     while True:\n",
    "        item= input('What would you like to add?')\n",
    "        shopping_cart.append(item)\n",
    "\n",
    "        if item.lower() == 'show':\n",
    "            print(f'Your current items are {shopping_cart}')\n",
    "\n",
    "        if item.lower() == 'delete':\n",
    "            input('what would you like to remove?')\n",
    "            shopping_cart.pop(item)\n",
    "\n",
    "        if item.lower() == 'quit':\n",
    "            print(f'Your items are {shopping_cart}')\n",
    "\n",
    "            break\n",
    "            \n",
    "Cart = Cart([],[],[])\n",
    "\n",
    "Cart.cart()\n",
    "\n",
    "\n",
    "\n",
    "         \n",
    "\n",
    "\n",
    "       \n",
    "\n",
    "      \n",
    "\n",
    "\n",
    "\n",
    "    \n",
    "    \n"
   ]
  },
  {
   "cell_type": "markdown",
   "metadata": {},
   "source": [
    "### Exercise 2 - Write a Python class which has two methods get_String and print_String. get_String accept a string from the user and print_String print the string in upper case"
   ]
  },
  {
   "cell_type": "code",
   "execution_count": 10,
   "metadata": {},
   "outputs": [
    {
     "name": "stdout",
     "output_type": "stream",
     "text": [
      "The string is THE\n"
     ]
    }
   ],
   "source": [
    "class My_string:\n",
    "    def __init__(self):\n",
    "        self.input_string = \"\"\n",
    "\n",
    "    def get_string(self):\n",
    "        self.input_string = input(\"Enter a string \")\n",
    "\n",
    "    def print_string(self):\n",
    "        print(\"The string is {}\".format(self.input_string.upper()))\n",
    "\n",
    "\n",
    "\n",
    "My_string =  My_string()\n",
    "\n",
    "My_string.get_string()\n",
    "\n",
    "My_string.print_string()"
   ]
  }
 ],
 "metadata": {
  "kernelspec": {
   "display_name": "Python 3",
   "language": "python",
   "name": "python3"
  },
  "language_info": {
   "codemirror_mode": {
    "name": "ipython",
    "version": 3
   },
   "file_extension": ".py",
   "mimetype": "text/x-python",
   "name": "python",
   "nbconvert_exporter": "python",
   "pygments_lexer": "ipython3",
   "version": "3.11.5"
  }
 },
 "nbformat": 4,
 "nbformat_minor": 2
}
